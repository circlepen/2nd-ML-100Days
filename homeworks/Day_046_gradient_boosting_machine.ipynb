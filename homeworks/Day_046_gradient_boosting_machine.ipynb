{
 "cells": [
  {
   "cell_type": "code",
   "execution_count": 1,
   "metadata": {},
   "outputs": [],
   "source": [
    "from sklearn import datasets, metrics\n",
    "from sklearn.ensemble import GradientBoostingClassifier\n",
    "from sklearn.model_selection import train_test_split"
   ]
  },
  {
   "cell_type": "code",
   "execution_count": 3,
   "metadata": {},
   "outputs": [],
   "source": [
    "# 讀取鳶尾花資料集\n",
    "iris = datasets.load_iris()\n",
    "\n",
    "# 切分訓練集/測試集\n",
    "x_train, x_test, y_train, y_test = train_test_split(iris.data, iris.target, test_size=0.25, random_state=4)\n",
    "\n",
    "# 建立模型\n",
    "clf = GradientBoostingClassifier()\n",
    "\n",
    "# 訓練模型\n",
    "clf.fit(x_train, y_train)\n",
    "\n",
    "# 預測測試集\n",
    "y_pred = clf.predict(x_test)"
   ]
  },
  {
   "cell_type": "code",
   "execution_count": 4,
   "metadata": {},
   "outputs": [
    {
     "name": "stdout",
     "output_type": "stream",
     "text": [
      "Acuuracy:  0.9736842105263158\n"
     ]
    }
   ],
   "source": [
    "acc = metrics.accuracy_score(y_test, y_pred)\n",
    "print(\"Acuuracy: \", acc)"
   ]
  },
  {
   "cell_type": "markdown",
   "metadata": {},
   "source": [
    "### 作業\n",
    "目前已經學過許多的模型，相信大家對整體流程應該比較掌握了，這次作業請改用**手寫辨識資料集**，步驟流程都是一樣的，請試著自己撰寫程式碼來完成所有步驟"
   ]
  },
  {
   "cell_type": "code",
   "execution_count": 6,
   "metadata": {},
   "outputs": [],
   "source": [
    "digits = datasets.load_digits()"
   ]
  },
  {
   "cell_type": "code",
   "execution_count": null,
   "metadata": {},
   "outputs": [],
   "source": []
  },
  {
   "cell_type": "code",
   "execution_count": 5,
   "metadata": {},
   "outputs": [
    {
     "name": "stdout",
     "output_type": "stream",
     "text": [
      "High five! You successfully sent some data to your account on plotly. View your plot in your browser at https://plot.ly/~circlepen/0 or inside your plot.ly account where it is named 'gantt-hours-minutes'\n"
     ]
    },
    {
     "data": {
      "text/html": [
       "<iframe id=\"igraph\" scrolling=\"no\" style=\"border:none;\" seamless=\"seamless\" src=\"https://plot.ly/~circlepen/0.embed\" height=\"600px\" width=\"900px\"></iframe>"
      ],
      "text/plain": [
       "<chart_studio.tools.PlotlyDisplay object>"
      ]
     },
     "execution_count": 5,
     "metadata": {},
     "output_type": "execute_result"
    }
   ],
   "source": [
    "import plotly.plotly as py\n",
    "import plotly\n",
    "import plotly.figure_factory as ff\n",
    "# plotly.tools.set_credentials_file(\n",
    "#     username='circlepen', api_key='iisQQGuZlrRgEWgpbWrd')\n",
    "\n",
    "df = [\n",
    "    dict(Task='Morning Sleep', Start='2016-01-01',\n",
    "         Finish='2016-01-01 6:00:00', Resource='Sleep'),\n",
    "    dict(Task='Breakfast', Start='2016-01-01 7:00:00',\n",
    "         Finish='2016-01-01 7:30:00', Resource='Food'),\n",
    "    dict(Task='Work', Start='2016-01-01 9:00:00',\n",
    "         Finish='2016-01-01 11:25:00', Resource='Brain'),\n",
    "    dict(Task='Break', Start='2016-01-01 11:30:00',\n",
    "         Finish='2016-01-01 12:00:00', Resource='Rest'),\n",
    "    dict(Task='Lunch', Start='2016-01-01 12:00:00',\n",
    "         Finish='2016-01-01 13:00:00', Resource='Food'),\n",
    "    dict(Task='Work', Start='2016-01-01 13:00:00',\n",
    "         Finish='2016-01-01 17:00:00', Resource='Brain'),\n",
    "    dict(Task='Exercise', Start='2016-01-01 17:30:00',\n",
    "         Finish='2016-01-01 18:30:00', Resource='Cardio'),\n",
    "    dict(Task='Post Workout Rest', Start='2016-01-01 18:30:00',\n",
    "         Finish='2016-01-01 19:00:00', Resource='Rest'),\n",
    "    dict(Task='Dinner', Start='2016-01-01 19:00:00',\n",
    "         Finish='2016-01-01 20:00:00', Resource='Food'),\n",
    "    dict(Task='Evening Sleep', Start='2016-01-01 21:00:00',\n",
    "         Finish='2016-01-01 23:59:00', Resource='Sleep'),\n",
    "    dict(Task='Evening Sleep', Start='2016-01-01 14:00:00',\n",
    "         Finish='2016-01-01 15:59:00', Resource='Sleep')\n",
    "]\n",
    "\n",
    "colors = dict(Cardio='rgb(46, 137, 205)',\n",
    "              Food='rgb(114, 44, 121)',\n",
    "              Sleep='rgb(198, 47, 105)',\n",
    "              Brain='rgb(58, 149, 136)',\n",
    "              Rest='rgb(107, 127, 135)')\n",
    "\n",
    "fig = ff.create_gantt(df, colors=colors, index_col='Resource', title='Daily Schedule',\n",
    "                      show_colorbar=True, group_tasks=True, bar_width=0.4, showgrid_x=True, showgrid_y=True)\n",
    "py.iplot(fig, filename='gantt-hours-minutes', world_readable=True)\n"
   ]
  },
  {
   "cell_type": "code",
   "execution_count": 9,
   "metadata": {},
   "outputs": [
    {
     "data": {
      "image/png": "[encoded data removed]",
      "text/plain": [
       "<Figure size 432x288 with 1 Axes>"
      ]
     },
     "metadata": {
      "needs_background": "light"
     },
     "output_type": "display_data"
    }
   ],
   "source": [
    "import datetime as dt\n",
    "import numpy\n",
    "import matplotlib\n",
    "import matplotlib.pyplot as plt\n",
    "import matplotlib.dates as md\n",
    "import locale\n",
    "from functools import reduce\n",
    "locale.setlocale(locale.LC_ALL, \"\")\n",
    "matplotlib.rcParams['font.family']='IPAPGothic'\n",
    "\n",
    "\n",
    "today = '2014-01-01'\n",
    "#task pl_start   pl_end     ac_start   ac_end     progress\n",
    "data = \"\"\"\n",
    "A     2012-11-01 2012-12-31 2012-11-01 2012-12-31 1\n",
    "B     2013-01-01 2013-03-14 2013-01-01 2013-03-14 1\n",
    "C     2013-03-15 2014-04-30 2013-03-15 -          .7\n",
    "D     2013-05-01 2013-06-30 2013-05-01 2013-06-30 1\n",
    "E     2013-07-01 2013-08-31 2013-07-01 2013-08-31 1\n",
    "F1    2013-09-01 2013-10-31 2013-09-01 2013-10-31 1\n",
    "F2    2013-09-01 2014-01-17 2013-09-01 -          .8\n",
    "F3    2013-09-01 2014-01-30 2013-09-01 -          .8\n",
    "F4    2013-09-01 2014-03-31 2013-09-01 -          .6\n",
    "G1    2013-11-01 2013-11-27 2013-11-01 2013-11-27 1\n",
    "G2    2013-11-01 2014-01-17 2013-11-01 -          .8\n",
    "L     2013-11-28 2013-12-19 2013-11-28 -          0\n",
    "M     2013-11-28 2014-01-17 2013-11-28 -          .6\n",
    "N     2013-12-04 2014-03-02 2013-12-04 -          .3\n",
    "O     2013-12-20 2014-01-17 2013-12-20 -          .3\n",
    "P     2013-12-20 2014-02-16 2013-12-20 -          .2\n",
    "Q     2014-01-05 2014-01-13 2013-12-25 -          1\n",
    "R     2014-01-18 2014-01-30 2013-12-18 -          .5\n",
    "S     2014-01-31 2014-03-31 -          -          0\n",
    "T     2014-03-01 2014-04-28 -          -          0\n",
    "\"\"\"\n",
    "\n",
    "datefmt = \"%Y-%m-%d\"\n",
    "today = dt.datetime.strptime(today, datefmt)\n",
    "\n",
    "data = [x.split() for x in data.split('\\n')]\n",
    "data = [x for x in data if len(x) == 6]\n",
    "data = [{\n",
    "    'label': x[0],\n",
    "    'planned_start': dt.datetime.strptime(x[1], datefmt),\n",
    "    'planned_end': dt.datetime.strptime(x[2], datefmt) + dt.timedelta(1),\n",
    "    'actual_start': today if x[3] == '-' else\n",
    "                    dt.datetime.strptime(x[3], datefmt),\n",
    "    'actual_end': today if x[4] == '-' else\n",
    "                  dt.datetime.strptime(x[4], datefmt) + dt.timedelta(1),\n",
    "    'progress': float(x[5]),\n",
    "    } for x in data]\n",
    "for x in data:\n",
    "    s = x['planned_start']\n",
    "    e = x['planned_end']\n",
    "    r = x['progress']\n",
    "    x.update(progress_date=s+(e-s)*r)\n",
    "for x in data:\n",
    "    s = x['actual_start']\n",
    "    e = x['actual_end']\n",
    "    x.update(actual_end=e if e > s else s)\n",
    "\n",
    "fig, ax = plt.subplots()\n",
    "ax.hlines(\n",
    "  [x - 0.2 for x in range(len(data))],\n",
    "  [x['planned_start'] for x in data],\n",
    "  [x['planned_end'] for x in data],\n",
    "  linewidth=3, color='black', label='plan')\n",
    "ax.hlines(\n",
    "  [x for x in range(len(data))],\n",
    "  [x['planned_start'] for x in data],\n",
    "  [x['progress_date'] for x in data],\n",
    "  linewidth=3, color='blue', label='todo')\n",
    "ax.hlines(\n",
    "  [x + 0.2 for x in range(len(data))],\n",
    "  [x['actual_start'] for x in data],\n",
    "  [x['actual_end'] for x in data],\n",
    "  linewidth=3, color='red', label='complete')\n",
    "\n",
    "def is_lightening(x, today):\n",
    "    p = x['progress']\n",
    "    return p > 0 and p < 1 \\\n",
    "        or p > 0 and x['progress_date'] > today \\\n",
    "        or p < 1 and x['progress_date'] < today\n",
    "lightening = [\n",
    "  [(today, idx - 0.5), (today, idx - 0.3),\n",
    "   (x['progress_date'] if is_lightening(x, today) else today, idx),\n",
    "   (today, idx + 0.3), (today, idx + 0.5)]\n",
    "  for idx, x in enumerate(data)]\n",
    "lightening = reduce(lambda x, y: x + y, lightening)\n",
    "ax.plot(\n",
    "  [x[0] for x in lightening],\n",
    "  [x[1] for x in lightening],\n",
    "  linewidth=1, color='blue')\n",
    "\n",
    "ax.xaxis.set_major_formatter(md.DateFormatter('%Y/%m'))\n",
    "ax.xaxis.set_major_locator(md.MonthLocator())\n",
    "ax.xaxis.set_minor_locator(md.WeekdayLocator(byweekday=md.MO))\n",
    "ax.xaxis.grid(b=True)\n",
    "\n",
    "ax.yaxis.set_ticklabels([x['label'] for x in data])\n",
    "ax.yaxis.set_ticks([idx for idx, x in enumerate(data)])\n",
    "ax.yaxis.grid(b=True)\n",
    "ax.set_ylim(len(data), -1)\n",
    "\n",
    "ax.legend(loc='lower left')\n",
    "\n",
    "fig.autofmt_xdate()\n",
    "\n",
    "plt.show()"
   ]
  }
 ],
 "metadata": {
  "kernelspec": {
   "display_name": "Python 3",
   "language": "python",
   "name": "python3"
  },
  "language_info": {
   "codemirror_mode": {
    "name": "ipython",
    "version": 3
   },
   "file_extension": ".py",
   "mimetype": "text/x-python",
   "name": "python",
   "nbconvert_exporter": "python",
   "pygments_lexer": "ipython3",
   "version": "3.7.3"
  }
 },
 "nbformat": 4,
 "nbformat_minor": 2
}
