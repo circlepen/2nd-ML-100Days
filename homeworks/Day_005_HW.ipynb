{
 "cells": [
  {
   "cell_type": "code",
   "execution_count": 1,
   "metadata": {},
   "outputs": [],
   "source": [
    "# Import 需要的套件\n",
    "import os\n",
    "import numpy as np\n",
    "import pandas as pd\n",
    "\n",
    "# 設定 data_path\n",
    "dir_data = '../data/'"
   ]
  },
  {
   "cell_type": "code",
   "execution_count": 2,
   "metadata": {},
   "outputs": [],
   "source": [
    "f_app_train = os.path.join(dir_data, 'application_train.csv')\n",
    "app_train = pd.read_csv(f_app_train)"
   ]
  },
  {
   "cell_type": "code",
   "execution_count": 9,
   "metadata": {},
   "outputs": [
    {
     "data": {
      "text/plain": [
       "SK_ID_CURR                                            456255\n",
       "TARGET                                                     1\n",
       "NAME_CONTRACT_TYPE                           Revolving loans\n",
       "CODE_GENDER                                              XNA\n",
       "FLAG_OWN_CAR                                               Y\n",
       "FLAG_OWN_REALTY                                            Y\n",
       "CNT_CHILDREN                                              19\n",
       "AMT_INCOME_TOTAL                                    1.17e+08\n",
       "AMT_CREDIT                                          4.05e+06\n",
       "AMT_ANNUITY                                           258026\n",
       "AMT_GOODS_PRICE                                     4.05e+06\n",
       "NAME_INCOME_TYPE                                     Working\n",
       "NAME_EDUCATION_TYPE            Secondary / secondary special\n",
       "NAME_FAMILY_STATUS                                     Widow\n",
       "NAME_HOUSING_TYPE                               With parents\n",
       "REGION_POPULATION_RELATIVE                          0.072508\n",
       "DAYS_BIRTH                                             -7489\n",
       "DAYS_EMPLOYED                                         365243\n",
       "DAYS_REGISTRATION                                          0\n",
       "DAYS_ID_PUBLISH                                            0\n",
       "OWN_CAR_AGE                                               91\n",
       "FLAG_MOBIL                                                 1\n",
       "FLAG_EMP_PHONE                                             1\n",
       "FLAG_WORK_PHONE                                            1\n",
       "FLAG_CONT_MOBILE                                           1\n",
       "FLAG_PHONE                                                 1\n",
       "FLAG_EMAIL                                                 1\n",
       "CNT_FAM_MEMBERS                                           20\n",
       "REGION_RATING_CLIENT                                       3\n",
       "REGION_RATING_CLIENT_W_CITY                                3\n",
       "                                           ...              \n",
       "DEF_30_CNT_SOCIAL_CIRCLE                                  34\n",
       "OBS_60_CNT_SOCIAL_CIRCLE                                 344\n",
       "DEF_60_CNT_SOCIAL_CIRCLE                                  24\n",
       "DAYS_LAST_PHONE_CHANGE                                     0\n",
       "FLAG_DOCUMENT_2                                            1\n",
       "FLAG_DOCUMENT_3                                            1\n",
       "FLAG_DOCUMENT_4                                            1\n",
       "FLAG_DOCUMENT_5                                            1\n",
       "FLAG_DOCUMENT_6                                            1\n",
       "FLAG_DOCUMENT_7                                            1\n",
       "FLAG_DOCUMENT_8                                            1\n",
       "FLAG_DOCUMENT_9                                            1\n",
       "FLAG_DOCUMENT_10                                           1\n",
       "FLAG_DOCUMENT_11                                           1\n",
       "FLAG_DOCUMENT_12                                           1\n",
       "FLAG_DOCUMENT_13                                           1\n",
       "FLAG_DOCUMENT_14                                           1\n",
       "FLAG_DOCUMENT_15                                           1\n",
       "FLAG_DOCUMENT_16                                           1\n",
       "FLAG_DOCUMENT_17                                           1\n",
       "FLAG_DOCUMENT_18                                           1\n",
       "FLAG_DOCUMENT_19                                           1\n",
       "FLAG_DOCUMENT_20                                           1\n",
       "FLAG_DOCUMENT_21                                           1\n",
       "AMT_REQ_CREDIT_BUREAU_HOUR                                 4\n",
       "AMT_REQ_CREDIT_BUREAU_DAY                                  9\n",
       "AMT_REQ_CREDIT_BUREAU_WEEK                                 8\n",
       "AMT_REQ_CREDIT_BUREAU_MON                                 27\n",
       "AMT_REQ_CREDIT_BUREAU_QRT                                261\n",
       "AMT_REQ_CREDIT_BUREAU_YEAR                                25\n",
       "Length: 116, dtype: object"
      ]
     },
     "execution_count": 9,
     "metadata": {},
     "output_type": "execute_result"
    }
   ],
   "source": [
    "app_train.max()"
   ]
  },
  {
   "cell_type": "code",
   "execution_count": 11,
   "metadata": {},
   "outputs": [
    {
     "data": {
      "text/plain": [
       "SK_ID_CURR                     102790.175348\n",
       "TARGET                              0.272419\n",
       "CNT_CHILDREN                        0.722121\n",
       "AMT_INCOME_TOTAL               237123.146279\n",
       "AMT_CREDIT                     402490.776996\n",
       "AMT_ANNUITY                     14493.737315\n",
       "AMT_GOODS_PRICE                369446.460540\n",
       "REGION_POPULATION_RELATIVE          0.013831\n",
       "DAYS_BIRTH                       4363.988632\n",
       "DAYS_EMPLOYED                  141275.766519\n",
       "DAYS_REGISTRATION                3522.886321\n",
       "DAYS_ID_PUBLISH                  1509.450419\n",
       "OWN_CAR_AGE                        11.944812\n",
       "FLAG_MOBIL                          0.001803\n",
       "FLAG_EMP_PHONE                      0.384280\n",
       "FLAG_WORK_PHONE                     0.399526\n",
       "FLAG_CONT_MOBILE                    0.043164\n",
       "FLAG_PHONE                          0.449521\n",
       "FLAG_EMAIL                          0.231307\n",
       "CNT_FAM_MEMBERS                     0.910682\n",
       "REGION_RATING_CLIENT                0.509034\n",
       "REGION_RATING_CLIENT_W_CITY         0.502737\n",
       "HOUR_APPR_PROCESS_START             3.265832\n",
       "REG_REGION_NOT_LIVE_REGION          0.122126\n",
       "REG_REGION_NOT_WORK_REGION          0.219526\n",
       "LIVE_REGION_NOT_WORK_REGION         0.197499\n",
       "REG_CITY_NOT_LIVE_CITY              0.268444\n",
       "REG_CITY_NOT_WORK_CITY              0.421124\n",
       "LIVE_CITY_NOT_WORK_CITY             0.383817\n",
       "EXT_SOURCE_1                        0.211062\n",
       "                                   ...      \n",
       "DEF_30_CNT_SOCIAL_CIRCLE            0.446698\n",
       "OBS_60_CNT_SOCIAL_CIRCLE            2.379803\n",
       "DEF_60_CNT_SOCIAL_CIRCLE            0.362291\n",
       "DAYS_LAST_PHONE_CHANGE            826.808487\n",
       "FLAG_DOCUMENT_2                     0.006502\n",
       "FLAG_DOCUMENT_3                     0.453752\n",
       "FLAG_DOCUMENT_4                     0.009016\n",
       "FLAG_DOCUMENT_5                     0.122010\n",
       "FLAG_DOCUMENT_6                     0.283376\n",
       "FLAG_DOCUMENT_7                     0.013850\n",
       "FLAG_DOCUMENT_8                     0.273412\n",
       "FLAG_DOCUMENT_9                     0.062295\n",
       "FLAG_DOCUMENT_10                    0.004771\n",
       "FLAG_DOCUMENT_11                    0.062424\n",
       "FLAG_DOCUMENT_12                    0.002550\n",
       "FLAG_DOCUMENT_13                    0.059268\n",
       "FLAG_DOCUMENT_14                    0.054110\n",
       "FLAG_DOCUMENT_15                    0.034760\n",
       "FLAG_DOCUMENT_16                    0.099144\n",
       "FLAG_DOCUMENT_17                    0.016327\n",
       "FLAG_DOCUMENT_18                    0.089798\n",
       "FLAG_DOCUMENT_19                    0.024387\n",
       "FLAG_DOCUMENT_20                    0.022518\n",
       "FLAG_DOCUMENT_21                    0.018299\n",
       "AMT_REQ_CREDIT_BUREAU_HOUR          0.083849\n",
       "AMT_REQ_CREDIT_BUREAU_DAY           0.110757\n",
       "AMT_REQ_CREDIT_BUREAU_WEEK          0.204685\n",
       "AMT_REQ_CREDIT_BUREAU_MON           0.916002\n",
       "AMT_REQ_CREDIT_BUREAU_QRT           0.794056\n",
       "AMT_REQ_CREDIT_BUREAU_YEAR          1.869295\n",
       "Length: 106, dtype: float64"
      ]
     },
     "execution_count": 11,
     "metadata": {},
     "output_type": "execute_result"
    }
   ],
   "source": [
    "app_train.std()    "
   ]
  },
  {
   "cell_type": "code",
   "execution_count": 4,
   "metadata": {},
   "outputs": [
    {
     "data": {
      "text/plain": [
       "<matplotlib.axes._subplots.AxesSubplot at 0x11ea6cb00>"
      ]
     },
     "execution_count": 4,
     "metadata": {},
     "output_type": "execute_result"
    },
    {
     "data": {
      "image/png": "[encoded data removed]",
      "text/plain": [
       "<Figure size 432x288 with 1 Axes>"
      ]
     },
     "metadata": {
      "needs_background": "light"
     },
     "output_type": "display_data"
    }
   ],
   "source": [
    "import matplotlib.pyplot as plt\n",
    "%matplotlib inline\n",
    "\n",
    "app_train['AMT_INCOME_TOTAL'].hist(bins=50)"
   ]
  },
  {
   "cell_type": "markdown",
   "metadata": {},
   "source": [
    "## 練習時間"
   ]
  },
  {
   "cell_type": "markdown",
   "metadata": {},
   "source": [
    "觀察有興趣的欄位的資料分佈，並嘗試找出有趣的訊息\n",
    "#### Eg\n",
    "- 計算任意欄位的平均數及標準差\n",
    "- 畫出任意欄位的[直方圖](https://zh.wikipedia.org/zh-tw/%E7%9B%B4%E6%96%B9%E5%9B%BE)\n",
    "\n",
    "### Hints:\n",
    "- [Descriptive Statistics For pandas Dataframe](https://chrisalbon.com/python/data_wrangling/pandas_dataframe_descriptive_stats/)\n",
    "- [pandas 中的繪圖函數](https://amaozhao.gitbooks.io/pandas-notebook/content/pandas%E4%B8%AD%E7%9A%84%E7%BB%98%E5%9B%BE%E5%87%BD%E6%95%B0.html)\n"
   ]
  },
  {
   "cell_type": "code",
   "execution_count": null,
   "metadata": {
    "collapsed": true
   },
   "outputs": [],
   "source": []
  }
 ],
 "metadata": {
  "kernelspec": {
   "display_name": "Python 3",
   "language": "python",
   "name": "python3"
  },
  "language_info": {
   "codemirror_mode": {
    "name": "ipython",
    "version": 3
   },
   "file_extension": ".py",
   "mimetype": "text/x-python",
   "name": "python",
   "nbconvert_exporter": "python",
   "pygments_lexer": "ipython3",
   "version": "3.7.3"
  }
 },
 "nbformat": 4,
 "nbformat_minor": 2
}
